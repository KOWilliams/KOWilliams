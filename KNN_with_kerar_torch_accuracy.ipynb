{
  "nbformat": 4,
  "nbformat_minor": 0,
  "metadata": {
    "colab": {
      "provenance": [],
      "include_colab_link": true
    },
    "kernelspec": {
      "name": "python3",
      "display_name": "Python 3"
    },
    "language_info": {
      "name": "python"
    }
  },
  "cells": [
    {
      "cell_type": "markdown",
      "metadata": {
        "id": "view-in-github",
        "colab_type": "text"
      },
      "source": [
        "<a href=\"https://colab.research.google.com/github/KOWilliams/KOWilliams/blob/main/KNN_with_kerar_torch_accuracy.ipynb\" target=\"_parent\"><img src=\"https://colab.research.google.com/assets/colab-badge.svg\" alt=\"Open In Colab\"/></a>"
      ]
    },
    {
      "cell_type": "code",
      "execution_count": null,
      "metadata": {
        "colab": {
          "base_uri": "https://localhost:8080/"
        },
        "id": "LbMuQT37Qryr",
        "outputId": "c6c765ac-3690-45aa-9ace-e0d25421b711"
      },
      "outputs": [
        {
          "output_type": "stream",
          "name": "stdout",
          "text": [
            "Mounted at /content/drive\n"
          ]
        }
      ],
      "source": [
        "from google.colab import drive\n",
        "drive.mount('/content/drive')"
      ]
    },
    {
      "cell_type": "code",
      "source": [
        "import pandas as pd\n",
        "df = pd.read_csv('/Customers.csv')"
      ],
      "metadata": {
        "id": "11h8qlNQQznv"
      },
      "execution_count": null,
      "outputs": []
    },
    {
      "cell_type": "code",
      "source": [
        "print(df)"
      ],
      "metadata": {
        "colab": {
          "base_uri": "https://localhost:8080/"
        },
        "id": "0SsKHXWKRdV9",
        "outputId": "905be137-d0f3-47be-c2b4-f49bd47193cd"
      },
      "execution_count": null,
      "outputs": [
        {
          "output_type": "stream",
          "name": "stdout",
          "text": [
            "       Age  Income Student Credit_rating Buy_computer\n",
            "0    young    high      no          fair           no\n",
            "1    young    high      no     excellent           no\n",
            "2   middle    high      no          fair          yes\n",
            "3      old  medium      no          fair          yes\n",
            "4      old     low     yes          fair          yes\n",
            "5      old     low     yes     excellent           no\n",
            "6   middle     low     yes     excellent          yes\n",
            "7    young  medium      no          fair           no\n",
            "8    young     low     yes          fair          yes\n",
            "9      old  medium     yes          fair          yes\n",
            "10   young  medium     yes     excellent          yes\n",
            "11  middle  medium      no     excellent          yes\n",
            "12  middle    high     yes          fair          yes\n",
            "13     old  medium      no     excellent           no\n"
          ]
        }
      ]
    },
    {
      "cell_type": "code",
      "source": [
        "d_age = {'young':0, 'middle':1, 'old':2}\n",
        "d_income = {'high':0, 'medium':1, 'low':2}\n",
        "d_student = {'no':0, 'yes':1}\n",
        "d_credit_rating = {'fair':0, 'excellent':1}\n",
        "d_buy_computer = {'no':0, 'yes':1}\n",
        "\n",
        "df['Age'] = df['Age'].map(d_age)\n",
        "df['Income'] = df['Income'].map(d_income)\n",
        "df['Student'] = df['Student'].map(d_student)\n",
        "df['Credit_rating'] = df['Credit_rating'].map(d_credit_rating)\n",
        "df['Buy_computer'] = df['Buy_computer'].map(d_buy_computer)\n",
        "\n",
        "print(df)"
      ],
      "metadata": {
        "colab": {
          "base_uri": "https://localhost:8080/"
        },
        "id": "2QTQll5BR1k_",
        "outputId": "8746a5d2-55b5-4c0c-f4f0-cdc4430bc8fc"
      },
      "execution_count": null,
      "outputs": [
        {
          "output_type": "stream",
          "name": "stdout",
          "text": [
            "    Age  Income  Student  Credit_rating  Buy_computer\n",
            "0     0       0        0              0             0\n",
            "1     0       0        0              1             0\n",
            "2     1       0        0              0             1\n",
            "3     2       1        0              0             1\n",
            "4     2       2        1              0             1\n",
            "5     2       2        1              1             0\n",
            "6     1       2        1              1             1\n",
            "7     0       1        0              0             0\n",
            "8     0       2        1              0             1\n",
            "9     2       1        1              0             1\n",
            "10    0       1        1              1             1\n",
            "11    1       1        0              1             1\n",
            "12    1       0        1              0             1\n",
            "13    2       1        0              1             0\n"
          ]
        }
      ]
    },
    {
      "cell_type": "code",
      "source": [
        "features = ['Age', 'Income', 'Student', 'Credit_rating']\n",
        "\n",
        "data = df[features]\n",
        "classes = df['Buy_computer']"
      ],
      "metadata": {
        "id": "qbe9rZgNTtiR"
      },
      "execution_count": null,
      "outputs": []
    },
    {
      "cell_type": "code",
      "source": [
        "print(data)\n",
        "print('\\n\\n')\n",
        "print(classes)"
      ],
      "metadata": {
        "colab": {
          "base_uri": "https://localhost:8080/"
        },
        "id": "WwnW13dVuhqn",
        "outputId": "63631a6e-d713-405a-c576-1f490260e471"
      },
      "execution_count": null,
      "outputs": [
        {
          "output_type": "stream",
          "name": "stdout",
          "text": [
            "    Age  Income  Student  Credit_rating\n",
            "0     0       0        0              0\n",
            "1     0       0        0              1\n",
            "2     1       0        0              0\n",
            "3     2       1        0              0\n",
            "4     2       2        1              0\n",
            "5     2       2        1              1\n",
            "6     1       2        1              1\n",
            "7     0       1        0              0\n",
            "8     0       2        1              0\n",
            "9     2       1        1              0\n",
            "10    0       1        1              1\n",
            "11    1       1        0              1\n",
            "12    1       0        1              0\n",
            "13    2       1        0              1\n",
            "\n",
            "\n",
            "\n",
            "0     0\n",
            "1     0\n",
            "2     1\n",
            "3     1\n",
            "4     1\n",
            "5     0\n",
            "6     1\n",
            "7     0\n",
            "8     1\n",
            "9     1\n",
            "10    1\n",
            "11    1\n",
            "12    1\n",
            "13    0\n",
            "Name: Buy_computer, dtype: int64\n"
          ]
        }
      ]
    },
    {
      "cell_type": "code",
      "source": [
        "df_validation = pd.read_csv('/Customers.csv')\n",
        "\n",
        "print(df_validation)"
      ],
      "metadata": {
        "colab": {
          "base_uri": "https://localhost:8080/"
        },
        "id": "jfWHl1vMukS1",
        "outputId": "c853a856-3017-41fb-c2dd-7b83c01eb0dc"
      },
      "execution_count": null,
      "outputs": [
        {
          "output_type": "stream",
          "name": "stdout",
          "text": [
            "       Age  Income Student Credit_rating Buy_computer\n",
            "0    young    high      no          fair           no\n",
            "1    young    high      no     excellent           no\n",
            "2   middle    high      no          fair          yes\n",
            "3      old  medium      no          fair          yes\n",
            "4      old     low     yes          fair          yes\n",
            "5      old     low     yes     excellent           no\n",
            "6   middle     low     yes     excellent          yes\n",
            "7    young  medium      no          fair           no\n",
            "8    young     low     yes          fair          yes\n",
            "9      old  medium     yes          fair          yes\n",
            "10   young  medium     yes     excellent          yes\n",
            "11  middle  medium      no     excellent          yes\n",
            "12  middle    high     yes          fair          yes\n",
            "13     old  medium      no     excellent           no\n"
          ]
        }
      ]
    },
    {
      "cell_type": "code",
      "source": [
        "df_validation['Age'] = df_validation['Age'].map(d_age)\n",
        "df_validation['Income'] = df_validation['Income'].map(d_income)\n",
        "df_validation['Student'] = df_validation['Student'].map(d_student)\n",
        "df_validation['Credit_rating'] = df_validation['Credit_rating'].map(d_credit_rating)\n",
        "df_validation['Buy_computer'] = df_validation['Buy_computer'].map(d_buy_computer)\n",
        "\n",
        "test_df = df_validation[features]\n",
        "print(test_df)"
      ],
      "metadata": {
        "colab": {
          "base_uri": "https://localhost:8080/"
        },
        "id": "ep_lpG2Xvv7L",
        "outputId": "31d21986-8c83-4598-d7f0-da57cb9c7d80"
      },
      "execution_count": null,
      "outputs": [
        {
          "output_type": "stream",
          "name": "stdout",
          "text": [
            "    Age  Income  Student  Credit_rating\n",
            "0     0       0        0              0\n",
            "1     0       0        0              1\n",
            "2     1       0        0              0\n",
            "3     2       1        0              0\n",
            "4     2       2        1              0\n",
            "5     2       2        1              1\n",
            "6     1       2        1              1\n",
            "7     0       1        0              0\n",
            "8     0       2        1              0\n",
            "9     2       1        1              0\n",
            "10    0       1        1              1\n",
            "11    1       1        0              1\n",
            "12    1       0        1              0\n",
            "13    2       1        0              1\n"
          ]
        }
      ]
    },
    {
      "cell_type": "code",
      "source": [
        "def euclidean_distance(point1, point2):\n",
        "  return sum((x - y) ** 2 for x, y in zip(point1, point2)) ** 0.5"
      ],
      "metadata": {
        "id": "NnaScCSZw8SD"
      },
      "execution_count": null,
      "outputs": []
    },
    {
      "cell_type": "code",
      "source": [
        "train_data = data.values\n",
        "train_classes = classes.values\n",
        "test_data = test_df.values\n",
        "#k = 2\n",
        "print(train_data)\n",
        "print(train_classes)\n",
        "print(test_data)\n",
        "#print(k)"
      ],
      "metadata": {
        "colab": {
          "base_uri": "https://localhost:8080/"
        },
        "id": "iFIPmtSlyDEb",
        "outputId": "1cec1fc0-8e4b-40c5-b696-94ef98a5aff6"
      },
      "execution_count": null,
      "outputs": [
        {
          "output_type": "stream",
          "name": "stdout",
          "text": [
            "[[0 0 0 0]\n",
            " [0 0 0 1]\n",
            " [1 0 0 0]\n",
            " [2 1 0 0]\n",
            " [2 2 1 0]\n",
            " [2 2 1 1]\n",
            " [1 2 1 1]\n",
            " [0 1 0 0]\n",
            " [0 2 1 0]\n",
            " [2 1 1 0]\n",
            " [0 1 1 1]\n",
            " [1 1 0 1]\n",
            " [1 0 1 0]\n",
            " [2 1 0 1]]\n",
            "[0 0 1 1 1 0 1 0 1 1 1 1 1 0]\n",
            "[[0 0 0 0]\n",
            " [0 0 0 1]\n",
            " [1 0 0 0]\n",
            " [2 1 0 0]\n",
            " [2 2 1 0]\n",
            " [2 2 1 1]\n",
            " [1 2 1 1]\n",
            " [0 1 0 0]\n",
            " [0 2 1 0]\n",
            " [2 1 1 0]\n",
            " [0 1 1 1]\n",
            " [1 1 0 1]\n",
            " [1 0 1 0]\n",
            " [2 1 0 1]]\n"
          ]
        }
      ]
    },
    {
      "cell_type": "code",
      "source": [
        "#def euclidean_distance(point1, point2):\n",
        "   #return sum((x - y) * 2 for x, y in zip(point1, point2)) * 0.5\n",
        "\n",
        "def knn(train_data, train_classes, test_data, k):\n",
        "    predictions = []\n",
        "    for test_point in test_data:\n",
        "            # Calculate distances between the test point and all training points\n",
        "            distances = [(euclidean_distance(test_point, train_point), train_class)\n",
        "            for train_point, train_class in zip(train_data, train_classes)]\n",
        "            # Sort distances in ascending order\n",
        "            distances.sort()\n",
        "            # Take the k-nearest neighbors\n",
        "            k_nearest = distances[:k]\n",
        "            # Get the classes of the k-nearest points\n",
        "            k_nearest_classes = [cls for _, cls in k_nearest]\n",
        "            # Make prediction based on the majority class\n",
        "            majority_class = max(set(k_nearest_classes), key=k_nearest_classes.count)\n",
        "            predictions.append(majority_class)\n",
        "    return predictions\n",
        "# Step 3: Apply KNN on given data\n",
        "train_data = data.values\n",
        "train_classes = classes.values\n",
        "# Test data\n",
        "test_data = test_df.values\n",
        "# Set value of k\n",
        "k = 2\n",
        "# Make predictions using KNN\n",
        "predictions = knn(train_data, train_classes, test_data,k)\n",
        "#print the predictions\n",
        "print(\"Predictions:\", predictions)"
      ],
      "metadata": {
        "colab": {
          "base_uri": "https://localhost:8080/"
        },
        "id": "wlE71Q60yv6v",
        "outputId": "3103852a-e00b-4f46-aac8-f6bd73b6d097"
      },
      "execution_count": null,
      "outputs": [
        {
          "output_type": "stream",
          "name": "stdout",
          "text": [
            "Predictions: [0, 0, 0, 0, 0, 0, 0, 0, 0, 1, 0, 0, 1, 0]\n"
          ]
        }
      ]
    },
    {
      "cell_type": "code",
      "source": [
        "actual_classes = df_validation['Buy_computer'].values.tolist()\n",
        "print(actual_classes)"
      ],
      "metadata": {
        "colab": {
          "base_uri": "https://localhost:8080/"
        },
        "id": "--1VlSz53QnP",
        "outputId": "8288ca7a-2e7c-4d7c-aade-d55acae16ef0"
      },
      "execution_count": null,
      "outputs": [
        {
          "output_type": "stream",
          "name": "stdout",
          "text": [
            "[0, 0, 1, 1, 1, 0, 1, 0, 1, 1, 1, 1, 1, 0]\n"
          ]
        }
      ]
    },
    {
      "cell_type": "code",
      "source": [
        "from sklearn import metrics\n",
        "\n",
        "confusion_matrix = metrics.confusion_matrix(actual_classes, predictions)\n",
        "\n",
        "Accuracy = metrics.accuracy_score(actual_classes, predictions)\n",
        "print(Accuracy)"
      ],
      "metadata": {
        "colab": {
          "base_uri": "https://localhost:8080/"
        },
        "id": "7hIpStud3hiG",
        "outputId": "da2b3757-f8eb-42a6-dcfb-e0ab4ad22285"
      },
      "execution_count": null,
      "outputs": [
        {
          "output_type": "stream",
          "name": "stdout",
          "text": [
            "0.5\n"
          ]
        }
      ]
    },
    {
      "cell_type": "code",
      "source": [
        "cm_display = metrics.ConfusionMatrixDisplay(confusion_matrix = confusion_matrix, display_labels = [False, True])\n"
      ],
      "metadata": {
        "id": "CgG8FEjj5J7_"
      },
      "execution_count": null,
      "outputs": []
    },
    {
      "cell_type": "code",
      "source": [
        "import matplotlib.pyplot as plt\n",
        "cm_display.plot()\n",
        "plt.show()"
      ],
      "metadata": {
        "colab": {
          "base_uri": "https://localhost:8080/",
          "height": 455
        },
        "id": "mfk5LeKs5svQ",
        "outputId": "ad237069-6a5a-4960-9326-a1307100060b"
      },
      "execution_count": null,
      "outputs": [
        {
          "output_type": "display_data",
          "data": {
            "text/plain": [
              "<Figure size 640x480 with 2 Axes>"
            ],
            "image/png": "[encoded data removed]"
          },
          "metadata": {}
        }
      ]
    },
    {
      "cell_type": "code",
      "source": [
        "pip install torch torchvision"
      ],
      "metadata": {
        "id": "KEWyO_gp6AJG",
        "colab": {
          "base_uri": "https://localhost:8080/"
        },
        "outputId": "63e04ab8-f62a-44dd-b6ec-7018950f53be"
      },
      "execution_count": null,
      "outputs": [
        {
          "output_type": "stream",
          "name": "stdout",
          "text": [
            "Requirement already satisfied: torch in /usr/local/lib/python3.10/dist-packages (2.1.0+cu118)\n",
            "Requirement already satisfied: torchvision in /usr/local/lib/python3.10/dist-packages (0.16.0+cu118)\n",
            "Requirement already satisfied: filelock in /usr/local/lib/python3.10/dist-packages (from torch) (3.13.1)\n",
            "Requirement already satisfied: typing-extensions in /usr/local/lib/python3.10/dist-packages (from torch) (4.5.0)\n",
            "Requirement already satisfied: sympy in /usr/local/lib/python3.10/dist-packages (from torch) (1.12)\n",
            "Requirement already satisfied: networkx in /usr/local/lib/python3.10/dist-packages (from torch) (3.2.1)\n",
            "Requirement already satisfied: jinja2 in /usr/local/lib/python3.10/dist-packages (from torch) (3.1.2)\n",
            "Requirement already satisfied: fsspec in /usr/local/lib/python3.10/dist-packages (from torch) (2023.6.0)\n",
            "Requirement already satisfied: triton==2.1.0 in /usr/local/lib/python3.10/dist-packages (from torch) (2.1.0)\n",
            "Requirement already satisfied: numpy in /usr/local/lib/python3.10/dist-packages (from torchvision) (1.23.5)\n",
            "Requirement already satisfied: requests in /usr/local/lib/python3.10/dist-packages (from torchvision) (2.31.0)\n",
            "Requirement already satisfied: pillow!=8.3.*,>=5.3.0 in /usr/local/lib/python3.10/dist-packages (from torchvision) (9.4.0)\n",
            "Requirement already satisfied: MarkupSafe>=2.0 in /usr/local/lib/python3.10/dist-packages (from jinja2->torch) (2.1.3)\n",
            "Requirement already satisfied: charset-normalizer<4,>=2 in /usr/local/lib/python3.10/dist-packages (from requests->torchvision) (3.3.2)\n",
            "Requirement already satisfied: idna<4,>=2.5 in /usr/local/lib/python3.10/dist-packages (from requests->torchvision) (3.6)\n",
            "Requirement already satisfied: urllib3<3,>=1.21.1 in /usr/local/lib/python3.10/dist-packages (from requests->torchvision) (2.0.7)\n",
            "Requirement already satisfied: certifi>=2017.4.17 in /usr/local/lib/python3.10/dist-packages (from requests->torchvision) (2023.11.17)\n",
            "Requirement already satisfied: mpmath>=0.19 in /usr/local/lib/python3.10/dist-packages (from sympy->torch) (1.3.0)\n"
          ]
        }
      ]
    },
    {
      "cell_type": "code",
      "source": [
        "import numpy as np\n",
        "import torch\n",
        "import torch.nn as nn\n",
        "import torch.optim as optim\n",
        "import torch.nn.functional as F\n",
        "from sklearn.model_selection import train_test_split\n",
        "from sklearn.metrics import accuracy_score\n",
        "from sklearn.neighbors import KNeighborsClassifier"
      ],
      "metadata": {
        "id": "8dhqg_AbKTBf"
      },
      "execution_count": null,
      "outputs": []
    },
    {
      "cell_type": "code",
      "source": [
        "data_tensor = torch.FloatTensor(train_data)\n",
        "labels_tensor = torch.LongTensor(train_classes)"
      ],
      "metadata": {
        "id": "VjXKsKBBLTVB"
      },
      "execution_count": null,
      "outputs": []
    },
    {
      "cell_type": "code",
      "source": [
        "import numpy as np\n",
        "import torch\n",
        "import torch.nn as nn\n",
        "import torch.optim as optim\n",
        "import torch.nn.functional as F\n",
        "from sklearn.model_selection import train_test_split\n",
        "from sklearn.metrics import accuracy_score\n",
        "from sklearn.neighbors import KNeighborsClassifier\n",
        "\n",
        "data_tensor = torch.FloatTensor(train_data)\n",
        "labels_tensor = torch.LongTensor(train_classes)\n",
        "\n",
        "# Split the data into training and testing sets\n",
        "data_train, data_test, labels_train, labels_test = train_test_split(data_tensor, labels_tensor, test_size=0.2, random_state=42)\n",
        "# Neural Network model\n",
        "class SimpleNeuralNetwork(nn.Module):\n",
        "         def __init__(self):\n",
        "             super(SimpleNeuralNetwork, self).__init__()\n",
        "             self.fc1 = nn.Linear(4, 8)\n",
        "             self.fc2 = nn.Linear(8, 2)\n",
        "         def forward(self, x):\n",
        "             x = F.relu(self.fc1(x))\n",
        "             x = self.fc2(x)\n",
        "             return x\n",
        "\n",
        "# Train the Neural Network\n",
        "def train_neural_network(model, data_train, labels_train, epochs= 100, lr=0.01):\n",
        "    criterion = nn.CrossEntropyLoss()\n",
        "    optimizer = optim.SGD(model.parameters(), lr=lr)\n",
        "    for epoch in range(epochs):\n",
        "        optimizer.zero_grad()\n",
        "        outputs = model(data_train)\n",
        "        loss = criterion(outputs, labels_train)\n",
        "        loss.backward()\n",
        "        optimizer.step()\n",
        "\n",
        "# Create and train the neural network\n",
        "neural_network = SimpleNeuralNetwork()\n",
        "train_neural_network(neural_network, data_train, labels_train)\n",
        "# Test the Neural Network\n",
        "def test_neural_network(model, data_test):\n",
        "    outputs = model(data_test)\n",
        "    _, predicted = torch.max(outputs.data, 1)\n",
        "    return predicted\n",
        "\n",
        "#Test the KNN agorithm\n",
        "def test_knn(data_train, labels_train, data_test, k):\n",
        "    knn = KNeighborsClassifier(n_neighbors=k)\n",
        "    knn.fit(data_train, labels_train)\n",
        "    return knn.predict(data_test)\n",
        "\n",
        "# Convert tensor outputs to numpy arrays\n",
        "# Convert tensor outputs to numpy arrays\n",
        "predictions_neural_network = test_neural_network(neural_network, data_test).numpy()\n",
        "predictions_knn = test_knn(data_train.numpy(), labels_train.numpy(), data_test.numpy(), k=2)\n",
        "\n",
        "# Calculate accuracy for both models\n",
        "accuracy_neural_network = accuracy_score(labels_test.numpy(), predictions_neural_network)\n",
        "accuracy_knn = accuracy_score(labels_test.numpy(), predictions_knn)\n",
        "print(\"Accuracy of Neural Network: {:.2f}%\".format(accuracy_neural_network * 100))\n",
        "print(\"Accuracy of KNN: {:.2f}%\".format(accuracy_knn * 100))\n",
        "\n"
      ],
      "metadata": {
        "colab": {
          "base_uri": "https://localhost:8080/"
        },
        "id": "Nj-TBSZYL_nS",
        "outputId": "aaac49b5-5dc6-4db6-fbad-be984976bf2b"
      },
      "execution_count": null,
      "outputs": [
        {
          "output_type": "stream",
          "name": "stdout",
          "text": [
            "Accuracy of Neural Network: 66.67%\n",
            "Accuracy of KNN: 66.67%\n"
          ]
        }
      ]
    },
    {
      "cell_type": "code",
      "source": [
        "import tensorflow as tf\n",
        "from sklearn.preprocessing import LabelEncoder, StandardScaler\n",
        "from keras.models import Sequential\n",
        "from keras.layers import Dense\n",
        "df_Data = data\n",
        "df_labels = classes\n",
        "\n",
        "data_train, data_test, labels_train, labels_test = train_test_split(df_Data, df_labels, test_size=0.2, random_state=42)\n",
        "\n",
        "#Convert labels to one-hot encoding for Keras\n",
        "labels_train_keras = tf.keras.utils.to_categorical(labels_train, num_classes=2)\n",
        "labels_test_keras = tf.keras.utils.to_categorical(labels_test, num_classes=2)\n",
        "#Create the Neural Network\n",
        "model = tf.keras.models.Sequential([tf.keras.layers.Dense(8, activation='relu', input_shape=(4,)), tf.keras.layers.Dense(2, activation='softmax')])\n",
        "#Compile the model\n",
        "model.compile(optimizer='sgd', loss='categorical_crossentropy', metrics=['accuracy'])\n",
        "#Train the Neural Network\n",
        "model.fit(data_train, labels_train_keras, epochs=100, batch_size=1, verbose=0)\n",
        "#Test Neural Network\n",
        "predictions_keras = model.predict(data_test)\n",
        "predicted_labels_keras = np.argmax(predictions_keras, axis=1)\n",
        "#Test the KNN algorithm\n",
        "knn = KNeighborsClassifier(n_neighbors=2)\n",
        "knn.fit(data_train, labels_train)\n",
        "predicted_labels_knn = knn.predict(data_test)\n",
        "#Calculate accuracy for both models\n",
        "accuracy_keras = accuracy_score(labels_test, predicted_labels_keras)\n",
        "accuracy_knn = accuracy_score(labels_test, predicted_labels_knn)\n",
        "\n",
        "print(\"Accuracy of Neural Network (Keras): {:.2f}%\".format(accuracy_keras * 100))\n",
        "print(\"Accuracy of KNN: {:.2f}%\".format(accuracy_knn*100))"
      ],
      "metadata": {
        "id": "Rsx9YJCGzhTW",
        "colab": {
          "base_uri": "https://localhost:8080/"
        },
        "outputId": "d2bcdf53-ccf0-4e65-a906-631c917eb277"
      },
      "execution_count": null,
      "outputs": [
        {
          "output_type": "stream",
          "name": "stdout",
          "text": [
            "1/1 [==============================] - 0s 154ms/step\n",
            "Accuracy of Neural Network (Keras): 33.33%\n",
            "Accuracy of KNN: 66.67%\n"
          ]
        }
      ]
    },
    {
      "cell_type": "code",
      "source": [],
      "metadata": {
        "id": "iFSn5Q616N_K"
      },
      "execution_count": null,
      "outputs": []
    }
  ]
}